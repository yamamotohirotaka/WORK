{
 "cells": [
  {
   "cell_type": "markdown",
   "metadata": {},
   "source": [
    "以下の変数に各自の情報を書き、Notebookを提出して下さい。\n",
    "\n",
    "- last_name 変数に、あなたの名字をstr型で入れる\n",
    "- first_name 変数に、あなたの名前をstr型で入れる\n",
    "- student_number 変数に、あなたの学生番号をstr型で入れる\n",
    "\n",
    "fullname 変数に上記で代入した、 `last_name` と `first_name` をスペースを間に入れて連結してたものを出力して下さい。\n",
    "\n",
    "age 変数に、あなたの年齢をint型で入れる\n",
    "\n",
    "\n",
    "my_info 変数に、dict型で、あなたの情報(`fullname`, `student_number`, `age`,) を上記の各変数を使ってまとめて下さい。\n"
   ]
  },
  {
   "cell_type": "markdown",
   "metadata": {},
   "source": [
    "回答例"
   ]
  },
  {
   "cell_type": "code",
   "execution_count": 1,
   "metadata": {},
   "outputs": [],
   "source": [
    "last_name = \"山本\"  # 自分の名字に変更する\n",
    "first_name = \"広高\"  # 自分の名前に変更する\n",
    "student_number = \"A0033040\"  # 自分の学生番号に変更する"
   ]
  },
  {
   "cell_type": "code",
   "execution_count": 2,
   "metadata": {},
   "outputs": [
    {
     "name": "stdout",
     "output_type": "stream",
     "text": [
      "山本 広高\n"
     ]
    }
   ],
   "source": [
    "fullname = last_name + \" \" + first_name   # □の部分を埋める\n",
    "print(fullname)"
   ]
  },
  {
   "cell_type": "code",
   "execution_count": 3,
   "metadata": {},
   "outputs": [],
   "source": [
    "age = 41"
   ]
  },
  {
   "cell_type": "code",
   "execution_count": 4,
   "metadata": {},
   "outputs": [
    {
     "name": "stdout",
     "output_type": "stream",
     "text": [
      "{'fullname': '山本 広高', 'student_number': 'A0033040', 'age': 41}\n"
     ]
    }
   ],
   "source": [
    "my_info = {'fullname':fullname, 'student_number':student_number, 'age':age}  ## 回答例にあるような辞書(dict)を作る\n",
    "print(my_info)"
   ]
  },
  {
   "cell_type": "code",
   "execution_count": null,
   "metadata": {},
   "outputs": [],
   "source": []
  }
 ],
 "metadata": {
  "kernelspec": {
   "display_name": "Python 3",
   "language": "python",
   "name": "python3"
  },
  "language_info": {
   "codemirror_mode": {
    "name": "ipython",
    "version": 3
   },
   "file_extension": ".py",
   "mimetype": "text/x-python",
   "name": "python",
   "nbconvert_exporter": "python",
   "pygments_lexer": "ipython3",
   "version": "3.6.4"
  }
 },
 "nbformat": 4,
 "nbformat_minor": 2
}
