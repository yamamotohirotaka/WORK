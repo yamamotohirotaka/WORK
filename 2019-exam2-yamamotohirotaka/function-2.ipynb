{
 "cells": [
  {
   "cell_type": "markdown",
   "metadata": {},
   "source": [
    "再起アルゴリズムを用いてハノイの塔の問題を解きます\n",
    "\n",
    "ルールは以下となります．\n",
    "\n",
    "- 3本の杭と、中央に穴の開いた大きさの異なる複数の円盤から構成される。\n",
    "- 最初はすべての円盤が左端の杭に小さいものが上になるように順に積み重ねられている。\n",
    "- 円盤を一回に一枚ずつどれかの杭に移動させることができるが、小さな円盤の上に大きな円盤を乗せることはできない。\n",
    "\n",
    "ハノイの塔 wiki: https://ja.wikipedia.org/wiki/%E3%83%8F%E3%83%8E%E3%82%A4%E3%81%AE%E5%A1%94\n",
    "\n",
    "再帰関数を定義してプログラムを作成してください．"
   ]
  },
  {
   "cell_type": "markdown",
   "metadata": {},
   "source": [
    "回答例"
   ]
  },
  {
   "cell_type": "code",
   "execution_count": 1,
   "metadata": {},
   "outputs": [],
   "source": [
    "def hanoi(n, start, end, work):\n",
    "    if n > 0:\n",
    "        hanoi(n - 1, start, work, end)  # それぞれの□に、\"start\", \"end\", \"work\" のいずれかを入れて完成させる\n",
    "        print(\"No.{} disk: {} to {}\".format(n, start, end))\n",
    "        hanoi(n - 1, work, end, start)  # それぞれの□に、\"start\", \"end\", \"work\" のいずれかを入れて完成させる"
   ]
  },
  {
   "cell_type": "markdown",
   "metadata": {},
   "source": [
    "結果のの表示"
   ]
  },
  {
   "cell_type": "code",
   "execution_count": 2,
   "metadata": {},
   "outputs": [
    {
     "name": "stdout",
     "output_type": "stream",
     "text": [
      "No.1 disk: A to B\n",
      "No.2 disk: A to C\n",
      "No.1 disk: B to C\n",
      "No.3 disk: A to B\n",
      "No.1 disk: C to A\n",
      "No.2 disk: C to B\n",
      "No.1 disk: A to B\n"
     ]
    }
   ],
   "source": [
    "hanoi(3, \"A\", \"B\", \"C\")"
   ]
  },
  {
   "cell_type": "code",
   "execution_count": null,
   "metadata": {},
   "outputs": [],
   "source": []
  }
 ],
 "metadata": {
  "kernelspec": {
   "display_name": "Python 3",
   "language": "python",
   "name": "python3"
  },
  "language_info": {
   "codemirror_mode": {
    "name": "ipython",
    "version": 3
   },
   "file_extension": ".py",
   "mimetype": "text/x-python",
   "name": "python",
   "nbconvert_exporter": "python",
   "pygments_lexer": "ipython3",
   "version": "3.6.4"
  }
 },
 "nbformat": 4,
 "nbformat_minor": 2
}
